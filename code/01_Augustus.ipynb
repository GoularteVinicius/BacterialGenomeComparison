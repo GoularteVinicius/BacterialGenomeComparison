{
 "cells": [
  {
   "cell_type": "code",
   "execution_count": 1,
   "id": "ee5c54ad",
   "metadata": {},
   "outputs": [
    {
     "name": "stdout",
     "output_type": "stream",
     "text": [
      "Acinetobacter_baumannii.fasta\n",
      "Mycobacterium_leprae.fasta\n",
      "Mycobacterium_tuberculosis.fasta\n",
      "Neisseria_gonorrhoeae.fasta\n",
      "Pseudomonas_aeruginosa.fasta\n",
      "Salmonella_enterica.fasta\n"
     ]
    }
   ],
   "source": [
    "%%bash\n",
    "\n",
    "ls ../data/raw"
   ]
  },
  {
   "cell_type": "markdown",
   "id": "b79adf94",
   "metadata": {},
   "source": [
    "### Augustus\n",
    "in: genome `.fasta`\n",
    "out: predição gênica `.gff` (General Feature Format)"
   ]
  },
  {
   "cell_type": "code",
   "execution_count": 11,
   "id": "e5d05496",
   "metadata": {},
   "outputs": [
    {
     "name": "stderr",
     "output_type": "stream",
     "text": [
      "#########################################################################\n",
      "# WARNING: --softmasking=1 and all sequences are completely in lower case.\n",
      "# They will be treated as repeatmasked everywhere and genes could be severely underpredicted.\n",
      "# If this is not intended, rerun with --softmasking=0\n",
      "#########################################################################\n",
      "#########################################################################\n",
      "# WARNING: --softmasking=1 and all sequences are completely in lower case.\n",
      "# They will be treated as repeatmasked everywhere and genes could be severely underpredicted.\n",
      "# If this is not intended, rerun with --softmasking=0\n",
      "#########################################################################\n",
      "#########################################################################\n",
      "# WARNING: --softmasking=1 and all sequences are completely in lower case.\n",
      "# They will be treated as repeatmasked everywhere and genes could be severely underpredicted.\n",
      "# If this is not intended, rerun with --softmasking=0\n",
      "#########################################################################\n",
      "#########################################################################\n",
      "# WARNING: --softmasking=1 and all sequences are completely in lower case.\n",
      "# They will be treated as repeatmasked everywhere and genes could be severely underpredicted.\n",
      "# If this is not intended, rerun with --softmasking=0\n",
      "#########################################################################\n",
      "#########################################################################\n",
      "# WARNING: --softmasking=1 and all sequences are completely in lower case.\n",
      "# They will be treated as repeatmasked everywhere and genes could be severely underpredicted.\n",
      "# If this is not intended, rerun with --softmasking=0\n",
      "#########################################################################\n",
      "#########################################################################\n",
      "# WARNING: --softmasking=1 and all sequences are completely in lower case.\n",
      "# They will be treated as repeatmasked everywhere and genes could be severely underpredicted.\n",
      "# If this is not intended, rerun with --softmasking=0\n",
      "#########################################################################\n"
     ]
    }
   ],
   "source": [
    "%%bash\n",
    "\n",
    "for i in ../data/raw/*.fasta;\n",
    "do\n",
    "if \n",
    "augustus --species=E_coli_K12 \"$i\" > \"$i.gff\";\n",
    "done\n",
    "mv ../data/raw/*.gff ../data/interim/"
   ]
  },
  {
   "cell_type": "markdown",
   "id": "f5c8a411",
   "metadata": {},
   "source": [
    "Acinetobacter baumannii e Neisseria gonorrhoeae vão ter como referência S aureus"
   ]
  },
  {
   "cell_type": "code",
   "execution_count": 21,
   "id": "b14ca13e",
   "metadata": {},
   "outputs": [
    {
     "name": "stderr",
     "output_type": "stream",
     "text": [
      "#########################################################################\n",
      "# WARNING: --softmasking=1 and all sequences are completely in lower case.\n",
      "# They will be treated as repeatmasked everywhere and genes could be severely underpredicted.\n",
      "# If this is not intended, rerun with --softmasking=0\n",
      "#########################################################################\n",
      "#########################################################################\n",
      "# WARNING: --softmasking=1 and all sequences are completely in lower case.\n",
      "# They will be treated as repeatmasked everywhere and genes could be severely underpredicted.\n",
      "# If this is not intended, rerun with --softmasking=0\n",
      "#########################################################################\n"
     ]
    }
   ],
   "source": [
    "%%bash\n",
    "\n",
    "for i in ../data/raw/Acinetobacter_baumannii.fasta ../data/raw/Neisseria_gonorrhoeae.fasta;\n",
    "do\n",
    "augustus --species=s_aureus \"$i\" > \"$i.gff\";\n",
    "done\n",
    "mv ../data/raw/*.gff ../data/interim/"
   ]
  },
  {
   "cell_type": "code",
   "execution_count": 16,
   "id": "3eb0f5f4",
   "metadata": {},
   "outputs": [],
   "source": [
    "# %%bash\n",
    "\n",
    "# for i in ../data/interim/*.gff;\n",
    "# do\n",
    "# ../software/Augustus/scripts/getAnnoFasta.pl \"$i\";\n",
    "# done"
   ]
  },
  {
   "cell_type": "code",
   "execution_count": 18,
   "id": "5e61c7bd",
   "metadata": {},
   "outputs": [
    {
     "name": "stdout",
     "output_type": "stream",
     "text": [
      "../data/interim/Mycobacterium_leprae.fasta.aa\n",
      "../data/interim/Mycobacterium_tuberculosis.fasta.aa\n",
      "../data/interim/Pseudomonas_aeruginosa.fasta.aa\n",
      "../data/interim/Salmonella_enterica.fasta.aa\n"
     ]
    }
   ],
   "source": [
    "%%bash\n",
    "ls ../data/interim/*.aa"
   ]
  },
  {
   "cell_type": "code",
   "execution_count": null,
   "id": "13568d3d",
   "metadata": {},
   "outputs": [],
   "source": [
    "%%bash\n",
    "makeblastdb -in VFDB_setA_pro.fas -dbtype prot -out db\n"
   ]
  }
 ],
 "metadata": {
  "kernelspec": {
   "display_name": "Python 3 (ipykernel)",
   "language": "python",
   "name": "python3"
  },
  "language_info": {
   "codemirror_mode": {
    "name": "ipython",
    "version": 3
   },
   "file_extension": ".py",
   "mimetype": "text/x-python",
   "name": "python",
   "nbconvert_exporter": "python",
   "pygments_lexer": "ipython3",
   "version": "3.9.12"
  }
 },
 "nbformat": 4,
 "nbformat_minor": 5
}
