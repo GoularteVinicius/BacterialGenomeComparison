{
 "cells": [
  {
   "cell_type": "code",
   "execution_count": 2,
   "metadata": {},
   "outputs": [],
   "source": [
    "import pandas as pd\n",
    "import os\n",
    "from Bio.Blast.Applications import NcbiblastpCommandline"
   ]
  },
  {
   "cell_type": "code",
   "execution_count": 10,
   "metadata": {},
   "outputs": [],
   "source": [
    "import glob"
   ]
  },
  {
   "cell_type": "code",
   "execution_count": 13,
   "metadata": {},
   "outputs": [],
   "source": [
    "datadir = os.path.join('..','data', 'pairwise_orthologs','All_Bacterias','OrthoFinder', 'Results_Apr10','Orthogroup_Sequences')   # input\n",
    "outdir = os.path.join('..','data', 'blast_results','biopython')  # output\n",
    "os.makedirs(outdir, exist_ok=True)                # create output directory if it doesn't exist"
   ]
  },
  {
   "cell_type": "code",
   "execution_count": 19,
   "metadata": {},
   "outputs": [],
   "source": [
    "db = os.path.join('..', 'virulance_database','db')                 # BLAST database"
   ]
  },
  {
   "cell_type": "code",
   "execution_count": 18,
   "metadata": {},
   "outputs": [],
   "source": [
    "sequences = glob.glob(os.path.join(datadir,'*.fa'))           # query sequence(s)\n"
   ]
  },
  {
   "cell_type": "code",
   "execution_count": 20,
   "metadata": {},
   "outputs": [],
   "source": [
    "seq = 'test'"
   ]
  },
  {
   "cell_type": "code",
   "execution_count": 21,
   "metadata": {},
   "outputs": [],
   "source": [
    "blastout = os.path.join(outdir, f'{seq}.tab')  # BLAST output"
   ]
  },
  {
   "cell_type": "code",
   "execution_count": 26,
   "metadata": {},
   "outputs": [],
   "source": [
    "cmd_blastp = NcbiblastpCommandline(query=sequences[0], out=blastout, outfmt=6, db=db)\n"
   ]
  },
  {
   "cell_type": "code",
   "execution_count": 29,
   "metadata": {},
   "outputs": [
    {
     "name": "stdout",
     "output_type": "stream",
     "text": [
      "STDOUT: \n",
      "STDERR: \n"
     ]
    }
   ],
   "source": [
    "stdout, stderr = cmd_blastp()\n",
    "\n",
    "# Check STDOUT, STDERR\n",
    "print(\"STDOUT: %s\" % stdout)\n",
    "print(\"STDERR: %s\" % stderr)"
   ]
  },
  {
   "cell_type": "code",
   "execution_count": 28,
   "metadata": {},
   "outputs": [
    {
     "name": "stdout",
     "output_type": "stream",
     "text": [
      "blastp -out ../data/blast_results/biopython/test.tab -outfmt 6 -query ../data/pairwise_orthologs/All_Bacterias/OrthoFinder/Results_Apr10/Orthogroup_Sequences/OG0000000.fa -db ../virulance_database/db\n"
     ]
    }
   ],
   "source": [
    "print(cmd_blastp)"
   ]
  },
  {
   "cell_type": "code",
   "execution_count": null,
   "metadata": {},
   "outputs": [],
   "source": []
  }
 ],
 "metadata": {
  "kernelspec": {
   "display_name": "Python 3",
   "language": "python",
   "name": "python3"
  },
  "language_info": {
   "codemirror_mode": {
    "name": "ipython",
    "version": 3
   },
   "file_extension": ".py",
   "mimetype": "text/x-python",
   "name": "python",
   "nbconvert_exporter": "python",
   "pygments_lexer": "ipython3",
   "version": "3.11.5"
  }
 },
 "nbformat": 4,
 "nbformat_minor": 2
}
